{
 "cells": [
  {
   "cell_type": "markdown",
   "id": "0cba1678-a26a-4ed2-a1df-734e6621dce4",
   "metadata": {},
   "source": [
    "# Creación, activación y configuración de un environment en Anaconda con todas las heramientas necesarias para el desarrollo de mi data_science_portfolio"
   ]
  },
  {
   "cell_type": "markdown",
   "id": "9a854a00-3bcf-45a0-806a-5fdc561c8aa0",
   "metadata": {},
   "source": [
    "## Creación y ativación del environment\n",
    "\n",
    "1. Crear un nuevo environment desde la consola de Anaconda o desde la terminal del Macbook con:\n",
    "`conda create --name data_science_portfolio python=3.9`\n",
    "\n",
    "2. Activamos el environment desde Anaconda o desde la terminal con el comando:\n",
    "`conda activate data_science_portfolio`"
   ]
  },
  {
   "cell_type": "markdown",
   "id": "d57ef7ec-8c15-4e63-a4f7-f8688df576ad",
   "metadata": {},
   "source": [
    "## Instalación de bibliotecas esenciales\n",
    "\n",
    "`conda install -y pandas numpy scipy matplotlib seaborn jupyterlab scikit-learn geopandas`\n",
    "\n",
    "\t• pandas: Manejo de datos.\n",
    "\t• numpy: Operaciones matemáticas.\n",
    "\t• scipy: Herramientas científicas.\n",
    "\t• matplotlib y seaborn: Visualización de datos.\n",
    "\t• jupyterlab: Para notebooks interactivos.\n",
    "\t• scikit-learn: Algoritmos de machine learning.\n",
    "\t• geopandas: Análisis de datos geoespaciales."
   ]
  },
  {
   "cell_type": "markdown",
   "id": "19973ad6-03be-4323-ac53-0ffeb9fe9c59",
   "metadata": {
    "jp-MarkdownHeadingCollapsed": true
   },
   "source": [
    "## Instalación de complementos adicionales (dependencias extra)\n",
    "\n",
    "`conda install -c conda-forge shapely fiona pyproj rtree`"
   ]
  },
  {
   "cell_type": "markdown",
   "id": "f7ebcb09-613f-4b3a-9707-c8c24ccc8d20",
   "metadata": {},
   "source": [
    "## Librerías adicionales para proyetos avanzados\n",
    "\n",
    "`pip install xgboost lightgbm tensorflow keras pydeck plotly dash`\n",
    "\n",
    "\t• xgboost y lightgbm: Algoritmos avanzados de aprendizaje automático.\n",
    "\t• tensorflow y keras: Redes neuronales y aprendizaje profundo.\n",
    "\t• pydeck, plotly, y dash: Visualizaciones y dashboards interactivos."
   ]
  },
  {
   "cell_type": "markdown",
   "id": "e903a559-0100-42dc-b596-570262860fab",
   "metadata": {},
   "source": [
    "## Verificación de las instalaciones\n",
    "`python -c \"import geopandas; print('Geopandas OK')\"`\n",
    "\n",
    "`python -c \"import matplotlib; print('Matplotlib OK')\"`\n",
    "\n",
    "`python -c \"import tensorflow as tf; print('TensorFlow:', tf.__version__)\"`"
   ]
  },
  {
   "cell_type": "markdown",
   "id": "5ddec57a-63d3-4b4f-b0e5-4e3418fedd91",
   "metadata": {},
   "source": [
    "## Guardar el Environment para compartir\n",
    "`conda env export --name data_science_portfolio > environment.yml`\n",
    "\n",
    "Para recrear el environment:\n",
    "`conda env create -f environment.yml`"
   ]
  }
 ],
 "metadata": {
  "kernelspec": {
   "display_name": "Python 3 (ipykernel)",
   "language": "python",
   "name": "python3"
  },
  "language_info": {
   "codemirror_mode": {
    "name": "ipython",
    "version": 3
   },
   "file_extension": ".py",
   "mimetype": "text/x-python",
   "name": "python",
   "nbconvert_exporter": "python",
   "pygments_lexer": "ipython3",
   "version": "3.9.18"
  }
 },
 "nbformat": 4,
 "nbformat_minor": 5
}
